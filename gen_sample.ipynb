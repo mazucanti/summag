{
 "cells": [
  {
   "cell_type": "code",
   "execution_count": 1,
   "source": [
    "import pandas as pd\n",
    "import networkx as nx"
   ],
   "outputs": [],
   "metadata": {}
  },
  {
   "cell_type": "code",
   "execution_count": 2,
   "source": [
    "nodes = pd.read_csv('raw/public_db_vertices.csv', index_col=0)\n",
    "edges = pd.read_csv('raw/public_db_edges.csv')"
   ],
   "outputs": [
    {
     "output_type": "stream",
     "name": "stderr",
     "text": [
      "/home/mazucanti/.local/lib/python3.8/site-packages/numpy/lib/arraysetops.py:580: FutureWarning: elementwise comparison failed; returning scalar instead, but in the future will perform elementwise comparison\n",
      "  mask |= (ar1 == a)\n"
     ]
    }
   ],
   "metadata": {
    "tags": []
   }
  },
  {
   "cell_type": "code",
   "execution_count": 3,
   "source": [
    "# edges = edges.sample(200000)\n",
    "A = nx.from_pandas_edgelist(edges, source='source_id_lattes', target='target_id_lattes', edge_attr=['academic_degree', 'start_year', 'conclusion_year', 'course', 'institution', 'thesis', 'major_area', 'area'])\n",
    "source_nodes = edges['source_id_lattes']\n",
    "target_nodes = edges['target_id_lattes']\n",
    "nodes = pd.concat([nodes.loc[source_nodes,:], nodes.loc[target_nodes,:]])\n",
    "nodes.drop_duplicates(inplace=True)\n",
    "node_attributes = nodes.to_dict('index')\n",
    "nx.set_node_attributes(A, node_attributes)"
   ],
   "outputs": [],
   "metadata": {
    "tags": []
   }
  },
  {
   "cell_type": "code",
   "execution_count": 4,
   "source": [
    "# nx.write_graphml(A, 'grafo_teste.graphml')\n",
    "nodes.to_csv('data/nodes.csv')\n",
    "edges.to_csv('data/edges.csv')"
   ],
   "outputs": [],
   "metadata": {}
  },
  {
   "cell_type": "code",
   "execution_count": null,
   "source": [],
   "outputs": [],
   "metadata": {}
  }
 ],
 "metadata": {
  "kernelspec": {
   "name": "python3",
   "display_name": "Python 3.8.5 64-bit"
  },
  "language_info": {
   "codemirror_mode": {
    "name": "ipython",
    "version": 3
   },
   "file_extension": ".py",
   "mimetype": "text/x-python",
   "name": "python",
   "nbconvert_exporter": "python",
   "pygments_lexer": "ipython3",
   "version": "3.8.5"
  },
  "interpreter": {
   "hash": "31f2aee4e71d21fbe5cf8b01ff0e069b9275f58929596ceb00d14d90e3e16cd6"
  }
 },
 "nbformat": 4,
 "nbformat_minor": 4
}