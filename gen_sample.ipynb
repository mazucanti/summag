{
 "cells": [
  {
   "cell_type": "code",
   "execution_count": null,
   "source": [
    "import pandas as pd\n",
    "import networkx as nx"
   ],
   "outputs": [],
   "metadata": {}
  },
  {
   "cell_type": "code",
   "execution_count": null,
   "source": [
    "nodes = pd.read_csv('raw/public_db_vertices.csv', index_col=0)\n",
    "edges = pd.read_csv('raw/public_db_edges.csv')\n",
    "\n"
   ],
   "outputs": [],
   "metadata": {
    "tags": []
   }
  },
  {
   "cell_type": "code",
   "execution_count": null,
   "source": [
    "edges = edges.sample(10000)\n",
    "A = nx.from_pandas_edgelist(edges, source='source_id_lattes', target='target_id_lattes', edge_attr=['academic_degree', 'start_year', 'conclusion_year', 'course', 'institution', 'thesis', 'major_area', 'area'])\n",
    "source_nodes = edges['source_id_lattes']\n",
    "target_nodes = edges['target_id_lattes']\n",
    "nodes = pd.concat([nodes.loc[source_nodes,:], nodes.loc[target_nodes,:]])\n",
    "nodes.drop_duplicates(inplace=True)\n",
    "node_attributes = nodes.to_dict('index')\n",
    "nx.set_node_attributes(A, node_attributes)"
   ],
   "outputs": [],
   "metadata": {
    "tags": []
   }
  },
  {
   "cell_type": "code",
   "execution_count": null,
   "source": [
    "nx.write_graphml(A, 'grafo_teste.graphml')\n",
    "nodes.to_csv('nodes.csv')\n",
    "edges.to_csv('edges.csv')"
   ],
   "outputs": [],
   "metadata": {}
  },
  {
   "cell_type": "code",
   "execution_count": null,
   "source": [],
   "outputs": [],
   "metadata": {}
  }
 ],
 "metadata": {
  "kernelspec": {
   "name": "python3",
   "display_name": "Python 3.8.5 64-bit ('.snap_tcc': venv)"
  },
  "language_info": {
   "codemirror_mode": {
    "name": "ipython",
    "version": 3
   },
   "file_extension": ".py",
   "mimetype": "text/x-python",
   "name": "python",
   "nbconvert_exporter": "python",
   "pygments_lexer": "ipython3",
   "version": "3.8.5"
  },
  "interpreter": {
   "hash": "bc733fa35e48d88f6ba9bc343d97f9939865b0074645f73c7b186fea6ce10672"
  }
 },
 "nbformat": 4,
 "nbformat_minor": 4
}